{
 "cells": [
  {
   "cell_type": "code",
   "execution_count": 2,
   "metadata": {},
   "outputs": [
    {
     "name": "stderr",
     "output_type": "stream",
     "text": [
      "Using TensorFlow backend.\n"
     ]
    }
   ],
   "source": [
    "import configs as cfgs\n",
    "import math_util as mt\n",
    "import data_util as dt\n",
    "import logging\n",
    "import numpy as np\n",
    "\n",
    "from trainer import set_custom_object\n",
    "from keras.models import load_model\n",
    "from keras.optimizers import RMSprop, Adam, SGD\n",
    "logging.basicConfig(level=logging.INFO, format='%(asctime)s %(message)s')"
   ]
  },
  {
   "cell_type": "code",
   "execution_count": 3,
   "metadata": {},
   "outputs": [
    {
     "name": "stdout",
     "output_type": "stream",
     "text": [
      "[0] ./dataset/raw_images\\20349_3_11_B31_norm_hu.npz\n",
      "[1] ./dataset/raw_images\\20349_3_12_B31_norm_hu.npz\n",
      "[2] ./dataset/raw_images\\20349_3_13_B31_norm_hu.npz\n",
      "[3] ./dataset/raw_images\\20349_3_14_B31_norm_hu.npz\n",
      "[4] ./dataset/raw_images\\20349_3_15_B31_norm_hu.npz\n",
      "[5] ./dataset/raw_images\\20349_3_16_B31_norm_hu.npz\n"
     ]
    }
   ],
   "source": [
    "# path of test\n",
    "path_list = cfgs.base_data_path + \"val_list.txt\"\n",
    "###\n",
    "f = open(path_list)\n",
    "path_list = f.readlines()\n",
    "f.close()\n",
    "\n",
    "path_imgs = []\n",
    "path_rois = []\n",
    "for i in range(0, len(path_list)-1, 2):\n",
    "    if path_list[i][-1:] is \"\\n\":\n",
    "        path_list[i] = path_list[i][:-1]\n",
    "        path_list[i+1] = path_list[i+1][:-1]\n",
    "    \n",
    "    path_imgs.append(path_list[i])\n",
    "    path_rois.append(path_list[i+1])\n",
    "\n",
    "for i in range(len(path_imgs)):\n",
    "    print(\"[{:}] {:}\".format(i, path_imgs[i]))"
   ]
  },
  {
   "cell_type": "code",
   "execution_count": 4,
   "metadata": {},
   "outputs": [
    {
     "name": "stdout",
     "output_type": "stream",
     "text": [
      "See number of your file name on above\n",
      "-1\n"
     ]
    }
   ],
   "source": [
    "print(\"See number of your file name on above\")\n",
    "user_pick = input() # if more than 1 use form 1, 2, 3, 4  ** -1 for all"
   ]
  },
  {
   "cell_type": "code",
   "execution_count": 6,
   "metadata": {},
   "outputs": [
    {
     "name": "stderr",
     "output_type": "stream",
     "text": [
      "2018-11-26 14:21:58,994 Your pick is.. [0, 1, 2, 3, 4, 5]\n"
     ]
    }
   ],
   "source": [
    "test_pick = user_pick.split(\", \")\n",
    "test_pick = list(map(int, test_pick))\n",
    "\n",
    "if -1 in test_pick:\n",
    "    test_pick = [num for num in range(0, len(path_imgs))]\n",
    "\n",
    "logging.info(\"Your pick is.. {:}\".format(test_pick))"
   ]
  },
  {
   "cell_type": "code",
   "execution_count": 8,
   "metadata": {},
   "outputs": [],
   "source": [
    "# select\n",
    "batch_size = cfgs.predict_batch_size\n",
    "mt.threshold = 0.7"
   ]
  },
  {
   "cell_type": "code",
   "execution_count": 9,
   "metadata": {},
   "outputs": [
    {
     "name": "stderr",
     "output_type": "stream",
     "text": [
      "2018-11-26 14:22:09,139 Load model..\n",
      "2018-11-26 14:24:19,792 epoch: 18 path: ./t_model/best\\epoch_018-hard_dice_coef_th_0.9315.hdf5\n"
     ]
    }
   ],
   "source": [
    "best_model = dt.all_path(cfgs.best_model_path+\"*\")\n",
    "num_epoch, best_model = dt.find_best_path(best_model)\n",
    "\n",
    "logging.info(\"Load model..\")\n",
    "loss = mt.get_loss()\n",
    "metrics = mt.get_metrics()\n",
    "set_custom_object(loss, metrics)\n",
    "model = load_model(best_model)\n",
    "\n",
    "logging.info(\"epoch: {:} path: {:}\".format(num_epoch, best_model))"
   ]
  },
  {
   "cell_type": "code",
   "execution_count": 10,
   "metadata": {},
   "outputs": [],
   "source": [
    "optimizer = Adam(lr=1e-3, beta_1=0.9, beta_2=0.999, epsilon=None, decay=0, amsgrad=False)\n",
    "#optimizer = SGD(lr=1e-2, momentum=0.9, decay=0, nesterov=True)\n",
    "#optimizer = RMSprop(lr=0.001, rho=0.9, epsilon=None, decay=0.0)\n",
    "\n",
    "model.compile(optimizer=optimizer, \n",
    "              loss=loss,\n",
    "              metrics=[mt.get_function(\"hard_dice_coef_th\"), \n",
    "                       mt.get_function(\"precision_th\"), \n",
    "                       mt.get_function(\"recall_th\"), \n",
    "                       mt.get_function(\"f1_th\")])"
   ]
  },
  {
   "cell_type": "code",
   "execution_count": null,
   "metadata": {},
   "outputs": [],
   "source": [
    "logging.info(\"Start\")\n",
    "all_sc = []\n",
    "\n"
   ]
  },
  {
   "cell_type": "code",
   "execution_count": 11,
   "metadata": {},
   "outputs": [
    {
     "name": "stderr",
     "output_type": "stream",
     "text": [
      "2018-11-26 14:24:30,139 Start\n"
     ]
    },
    {
     "name": "stdout",
     "output_type": "stream",
     "text": [
      "814/814 [==============================] - 126s 155ms/step\n"
     ]
    },
    {
     "name": "stderr",
     "output_type": "stream",
     "text": [
      "2018-11-26 14:28:06,215 Complete.. 20349_3_11_B31_norm_hu\n"
     ]
    },
    {
     "name": "stdout",
     "output_type": "stream",
     "text": [
      "699/699 [==============================] - 70s 101ms/step\n"
     ]
    },
    {
     "name": "stderr",
     "output_type": "stream",
     "text": [
      "2018-11-26 14:30:17,403 Complete.. 20349_3_12_B31_norm_hu\n"
     ]
    },
    {
     "name": "stdout",
     "output_type": "stream",
     "text": [
      "709/709 [==============================] - 51s 73ms/step\n"
     ]
    },
    {
     "name": "stderr",
     "output_type": "stream",
     "text": [
      "2018-11-26 14:32:13,019 Complete.. 20349_3_13_B31_norm_hu\n"
     ]
    },
    {
     "name": "stdout",
     "output_type": "stream",
     "text": [
      "993/993 [==============================] - 59s 59ms/step\n"
     ]
    },
    {
     "name": "stderr",
     "output_type": "stream",
     "text": [
      "2018-11-26 14:35:15,746 Complete.. 20349_3_14_B31_norm_hu\n"
     ]
    },
    {
     "name": "stdout",
     "output_type": "stream",
     "text": [
      "757/757 [==============================] - 53s 70ms/step\n"
     ]
    },
    {
     "name": "stderr",
     "output_type": "stream",
     "text": [
      "2018-11-26 14:37:06,059 Complete.. 20349_3_15_B31_norm_hu\n"
     ]
    },
    {
     "name": "stdout",
     "output_type": "stream",
     "text": [
      "671/671 [==============================] - 56s 83ms/step\n"
     ]
    },
    {
     "name": "stderr",
     "output_type": "stream",
     "text": [
      "2018-11-26 14:39:27,261 Complete.. 20349_3_16_B31_norm_hu\n",
      "2018-11-26 14:39:31,581 All Completed!\n"
     ]
    }
   ],
   "source": [
    "logging.info(\"Start\")\n",
    "all_sc = []\n",
    "\n",
    "for i in(test_pick):\n",
    "    op_imgs = dt.process_data(dt.open_im_roi(path_imgs[i]) )\n",
    "    op_rois = dt.open_im_roi(path_rois[i])\n",
    "    \n",
    "    for j in range(op_imgs.shape[2]):\n",
    "        img = dt.divide_image(op_imgs[...,j])\n",
    "        roi = dt.process_roi(dt.divide_image(op_rois[...,j]) )\n",
    "        \n",
    "    h = model.evaluate(x=eval_imgs, y=eval_rois, batch_size=batch_size, verbose=1)\n",
    "    \n",
    "    for j in(h):\n",
    "        all_sc.append(j)\n",
    "    \n",
    "    name = dt.tail_word(path_imgs[i])\n",
    "    name = name[:name.find(\".\")]\n",
    "    logging.info(\"Complete.. \" + name)\n",
    "    \n",
    "logging.info(\"All Completed!\")"
   ]
  },
  {
   "cell_type": "code",
   "execution_count": 20,
   "metadata": {},
   "outputs": [
    {
     "name": "stdout",
     "output_type": "stream",
     "text": [
      "==========Scores of each==========\n",
      "loss: 0.0064\n",
      "hard_dice_coef_th: 0.8769\n",
      "precision_th: 0.6086\n",
      "recall_th: 0.6438\n",
      "f1_th: 0.6207\n",
      "loss: 0.0122\n",
      "==================================\n",
      "hard_dice_coef_th: 0.9108\n",
      "precision_th: 0.8228\n",
      "recall_th: 0.8590\n",
      "f1_th: 0.8372\n",
      "loss: 0.0035\n",
      "==================================\n",
      "hard_dice_coef_th: 0.9320\n",
      "precision_th: 0.8956\n",
      "recall_th: 0.8639\n",
      "f1_th: 0.8795\n",
      "loss: 0.0021\n",
      "==================================\n",
      "hard_dice_coef_th: 0.9023\n",
      "precision_th: 0.9098\n",
      "recall_th: 0.8875\n",
      "f1_th: 0.8985\n",
      "loss: 0.0024\n",
      "==================================\n",
      "hard_dice_coef_th: 0.9303\n",
      "precision_th: 0.9203\n",
      "recall_th: 0.9071\n",
      "f1_th: 0.9137\n",
      "loss: 0.0096\n",
      "==================================\n",
      "hard_dice_coef_th: 0.9674\n",
      "precision_th: 0.9262\n",
      "recall_th: 0.9105\n",
      "f1_th: 0.9183\n",
      "==========Total scores of all==========\n",
      "loss: 0.0060\n",
      "hard_dice_coef_th: 0.9199\n",
      "precision_th: 0.8472\n",
      "recall_th: 0.8453\n",
      "f1_th: 0.8446\n"
     ]
    }
   ],
   "source": [
    "print(\"==========Scores of each==========\")\n",
    "all_total = []\n",
    "for i in range(len(all_sc)):\n",
    "    print(model.metrics_names[i%len(model.metrics_names)] + \": {:.4f}\".format(all_sc[i]) )\n",
    "    if i < len(model.metrics_names):\n",
    "        all_total.append(all_sc[i])\n",
    "    else:\n",
    "        all_total[i%len(model.metrics_names)] += all_sc[i]\n",
    "    if i!=0 and i%len(model.metrics_names)==0:\n",
    "        print(\"==================================\")\n",
    "print(\"==========Total scores of all==========\")        \n",
    "for i in range(len(all_total)):\n",
    "    print(model.metrics_names[i%len(model.metrics_names)] + \": {:.4f}\".format(all_total[i]/(len(all_sc)/len(model.metrics_names))) )"
   ]
  },
  {
   "cell_type": "code",
   "execution_count": null,
   "metadata": {},
   "outputs": [],
   "source": []
  }
 ],
 "metadata": {
  "kernelspec": {
   "display_name": "Python 3",
   "language": "python",
   "name": "python3"
  },
  "language_info": {
   "codemirror_mode": {
    "name": "ipython",
    "version": 3
   },
   "file_extension": ".py",
   "mimetype": "text/x-python",
   "name": "python",
   "nbconvert_exporter": "python",
   "pygments_lexer": "ipython3",
   "version": "3.5.4"
  }
 },
 "nbformat": 4,
 "nbformat_minor": 2
}
